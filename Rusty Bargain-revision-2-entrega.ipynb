{
 "cells": [
  {
   "cell_type": "markdown",
   "metadata": {},
   "source": [
    "El servicio de venta de autos usados Rusty Bargain está desarrollando una aplicación para atraer nuevos clientes. Gracias a esa app, puedes averiguar rápidamente el valor de mercado de tu coche. Tienes acceso al historial: especificaciones técnicas, versiones de equipamiento y precios. Tienes que crear un modelo que determine el valor de mercado.\n",
    "A Rusty Bargain le interesa:\n",
    "- la calidad de la predicción;\n",
    "- la velocidad de la predicción;\n",
    "- el tiempo requerido para el entrenamiento"
   ]
  },
  {
   "cell_type": "markdown",
   "metadata": {},
   "source": [
    "## Preparación de librerias"
   ]
  },
  {
   "cell_type": "markdown",
   "metadata": {},
   "source": [
    "\n",
    "<div class=\"alert alert-block alert-info\">\n",
    "<b>pip install tabulate</b> <a class=“tocSkip”></a>\n",
    "</div>"
   ]
  },
  {
   "cell_type": "code",
   "execution_count": 1,
   "metadata": {
    "scrolled": true
   },
   "outputs": [],
   "source": [
    "import pandas as pd \n",
    "import numpy as np\n",
    "from sklearn.model_selection import train_test_split\n",
    "from sklearn.linear_model import LinearRegression\n",
    "from sklearn.metrics import mean_squared_error\n",
    "from sklearn.preprocessing import OneHotEncoder\n",
    "\n",
    "from sklearn.tree import DecisionTreeRegressor\n",
    "from sklearn.ensemble import RandomForestRegressor\n",
    "import lightgbm as lgb\n",
    "import xgboost as xgb\n",
    "from catboost import CatBoostRegressor\n",
    "\n",
    "import time\n",
    "import tempfile\n",
    "from tabulate import tabulate\n"
   ]
  },
  {
   "cell_type": "markdown",
   "metadata": {},
   "source": [
    "## Preparación de datos"
   ]
  },
  {
   "cell_type": "code",
   "execution_count": 2,
   "metadata": {},
   "outputs": [
    {
     "name": "stdout",
     "output_type": "stream",
     "text": [
      "Archivo cargado exitosamente desde 'datasets/car_data.csv'\n"
     ]
    }
   ],
   "source": [
    "# Cargar los datos\n",
    "try:\n",
    "    # no windows\n",
    "    data = pd.read_csv('/datasets/car_data.csv')\n",
    "    print(\"Archivo cargado exitosamente desde '/datasets/car_data.csv'\")\n",
    "except FileNotFoundError:\n",
    "    try:\n",
    "        # windows\n",
    "        data = pd.read_csv('datasets/car_data.csv')\n",
    "        print(\"Archivo cargado exitosamente desde 'datasets/car_data.csv'\")\n",
    "    except FileNotFoundError:\n",
    "        print(\"Error: el archivo 'car_data.csv' no se encuentra en ninguna de las rutas especificadas.\")"
   ]
  },
  {
   "cell_type": "markdown",
   "metadata": {},
   "source": [
    "## Revisión de datos"
   ]
  },
  {
   "cell_type": "code",
   "execution_count": 3,
   "metadata": {},
   "outputs": [
    {
     "name": "stdout",
     "output_type": "stream",
     "text": [
      "Primeras filas del dataset:\n"
     ]
    },
    {
     "data": {
      "text/html": [
       "<div>\n",
       "<style scoped>\n",
       "    .dataframe tbody tr th:only-of-type {\n",
       "        vertical-align: middle;\n",
       "    }\n",
       "\n",
       "    .dataframe tbody tr th {\n",
       "        vertical-align: top;\n",
       "    }\n",
       "\n",
       "    .dataframe thead th {\n",
       "        text-align: right;\n",
       "    }\n",
       "</style>\n",
       "<table border=\"1\" class=\"dataframe\">\n",
       "  <thead>\n",
       "    <tr style=\"text-align: right;\">\n",
       "      <th></th>\n",
       "      <th>DateCrawled</th>\n",
       "      <th>Price</th>\n",
       "      <th>VehicleType</th>\n",
       "      <th>RegistrationYear</th>\n",
       "      <th>Gearbox</th>\n",
       "      <th>Power</th>\n",
       "      <th>Model</th>\n",
       "      <th>Mileage</th>\n",
       "      <th>RegistrationMonth</th>\n",
       "      <th>FuelType</th>\n",
       "      <th>Brand</th>\n",
       "      <th>NotRepaired</th>\n",
       "      <th>DateCreated</th>\n",
       "      <th>NumberOfPictures</th>\n",
       "      <th>PostalCode</th>\n",
       "      <th>LastSeen</th>\n",
       "    </tr>\n",
       "  </thead>\n",
       "  <tbody>\n",
       "    <tr>\n",
       "      <th>0</th>\n",
       "      <td>24/03/2016 11:52</td>\n",
       "      <td>480</td>\n",
       "      <td>NaN</td>\n",
       "      <td>1993</td>\n",
       "      <td>manual</td>\n",
       "      <td>0</td>\n",
       "      <td>golf</td>\n",
       "      <td>150000</td>\n",
       "      <td>0</td>\n",
       "      <td>petrol</td>\n",
       "      <td>volkswagen</td>\n",
       "      <td>NaN</td>\n",
       "      <td>24/03/2016 00:00</td>\n",
       "      <td>0</td>\n",
       "      <td>70435</td>\n",
       "      <td>07/04/2016 03:16</td>\n",
       "    </tr>\n",
       "    <tr>\n",
       "      <th>1</th>\n",
       "      <td>24/03/2016 10:58</td>\n",
       "      <td>18300</td>\n",
       "      <td>coupe</td>\n",
       "      <td>2011</td>\n",
       "      <td>manual</td>\n",
       "      <td>190</td>\n",
       "      <td>NaN</td>\n",
       "      <td>125000</td>\n",
       "      <td>5</td>\n",
       "      <td>gasoline</td>\n",
       "      <td>audi</td>\n",
       "      <td>yes</td>\n",
       "      <td>24/03/2016 00:00</td>\n",
       "      <td>0</td>\n",
       "      <td>66954</td>\n",
       "      <td>07/04/2016 01:46</td>\n",
       "    </tr>\n",
       "    <tr>\n",
       "      <th>2</th>\n",
       "      <td>14/03/2016 12:52</td>\n",
       "      <td>9800</td>\n",
       "      <td>suv</td>\n",
       "      <td>2004</td>\n",
       "      <td>auto</td>\n",
       "      <td>163</td>\n",
       "      <td>grand</td>\n",
       "      <td>125000</td>\n",
       "      <td>8</td>\n",
       "      <td>gasoline</td>\n",
       "      <td>jeep</td>\n",
       "      <td>NaN</td>\n",
       "      <td>14/03/2016 00:00</td>\n",
       "      <td>0</td>\n",
       "      <td>90480</td>\n",
       "      <td>05/04/2016 12:47</td>\n",
       "    </tr>\n",
       "    <tr>\n",
       "      <th>3</th>\n",
       "      <td>17/03/2016 16:54</td>\n",
       "      <td>1500</td>\n",
       "      <td>small</td>\n",
       "      <td>2001</td>\n",
       "      <td>manual</td>\n",
       "      <td>75</td>\n",
       "      <td>golf</td>\n",
       "      <td>150000</td>\n",
       "      <td>6</td>\n",
       "      <td>petrol</td>\n",
       "      <td>volkswagen</td>\n",
       "      <td>no</td>\n",
       "      <td>17/03/2016 00:00</td>\n",
       "      <td>0</td>\n",
       "      <td>91074</td>\n",
       "      <td>17/03/2016 17:40</td>\n",
       "    </tr>\n",
       "    <tr>\n",
       "      <th>4</th>\n",
       "      <td>31/03/2016 17:25</td>\n",
       "      <td>3600</td>\n",
       "      <td>small</td>\n",
       "      <td>2008</td>\n",
       "      <td>manual</td>\n",
       "      <td>69</td>\n",
       "      <td>fabia</td>\n",
       "      <td>90000</td>\n",
       "      <td>7</td>\n",
       "      <td>gasoline</td>\n",
       "      <td>skoda</td>\n",
       "      <td>no</td>\n",
       "      <td>31/03/2016 00:00</td>\n",
       "      <td>0</td>\n",
       "      <td>60437</td>\n",
       "      <td>06/04/2016 10:17</td>\n",
       "    </tr>\n",
       "  </tbody>\n",
       "</table>\n",
       "</div>"
      ],
      "text/plain": [
       "        DateCrawled  Price VehicleType  RegistrationYear Gearbox  Power  \\\n",
       "0  24/03/2016 11:52    480         NaN              1993  manual      0   \n",
       "1  24/03/2016 10:58  18300       coupe              2011  manual    190   \n",
       "2  14/03/2016 12:52   9800         suv              2004    auto    163   \n",
       "3  17/03/2016 16:54   1500       small              2001  manual     75   \n",
       "4  31/03/2016 17:25   3600       small              2008  manual     69   \n",
       "\n",
       "   Model  Mileage  RegistrationMonth  FuelType       Brand NotRepaired  \\\n",
       "0   golf   150000                  0    petrol  volkswagen         NaN   \n",
       "1    NaN   125000                  5  gasoline        audi         yes   \n",
       "2  grand   125000                  8  gasoline        jeep         NaN   \n",
       "3   golf   150000                  6    petrol  volkswagen          no   \n",
       "4  fabia    90000                  7  gasoline       skoda          no   \n",
       "\n",
       "        DateCreated  NumberOfPictures  PostalCode          LastSeen  \n",
       "0  24/03/2016 00:00                 0       70435  07/04/2016 03:16  \n",
       "1  24/03/2016 00:00                 0       66954  07/04/2016 01:46  \n",
       "2  14/03/2016 00:00                 0       90480  05/04/2016 12:47  \n",
       "3  17/03/2016 00:00                 0       91074  17/03/2016 17:40  \n",
       "4  31/03/2016 00:00                 0       60437  06/04/2016 10:17  "
      ]
     },
     "metadata": {},
     "output_type": "display_data"
    },
    {
     "name": "stdout",
     "output_type": "stream",
     "text": [
      "Información del dataset:\n",
      "<class 'pandas.core.frame.DataFrame'>\n",
      "RangeIndex: 354369 entries, 0 to 354368\n",
      "Data columns (total 16 columns):\n",
      " #   Column             Non-Null Count   Dtype \n",
      "---  ------             --------------   ----- \n",
      " 0   DateCrawled        354369 non-null  object\n",
      " 1   Price              354369 non-null  int64 \n",
      " 2   VehicleType        316879 non-null  object\n",
      " 3   RegistrationYear   354369 non-null  int64 \n",
      " 4   Gearbox            334536 non-null  object\n",
      " 5   Power              354369 non-null  int64 \n",
      " 6   Model              334664 non-null  object\n",
      " 7   Mileage            354369 non-null  int64 \n",
      " 8   RegistrationMonth  354369 non-null  int64 \n",
      " 9   FuelType           321474 non-null  object\n",
      " 10  Brand              354369 non-null  object\n",
      " 11  NotRepaired        283215 non-null  object\n",
      " 12  DateCreated        354369 non-null  object\n",
      " 13  NumberOfPictures   354369 non-null  int64 \n",
      " 14  PostalCode         354369 non-null  int64 \n",
      " 15  LastSeen           354369 non-null  object\n",
      "dtypes: int64(7), object(9)\n",
      "memory usage: 43.3+ MB\n"
     ]
    },
    {
     "data": {
      "text/plain": [
       "None"
      ]
     },
     "metadata": {},
     "output_type": "display_data"
    },
    {
     "name": "stdout",
     "output_type": "stream",
     "text": [
      "Descripción del dataset:\n"
     ]
    },
    {
     "data": {
      "text/html": [
       "<div>\n",
       "<style scoped>\n",
       "    .dataframe tbody tr th:only-of-type {\n",
       "        vertical-align: middle;\n",
       "    }\n",
       "\n",
       "    .dataframe tbody tr th {\n",
       "        vertical-align: top;\n",
       "    }\n",
       "\n",
       "    .dataframe thead th {\n",
       "        text-align: right;\n",
       "    }\n",
       "</style>\n",
       "<table border=\"1\" class=\"dataframe\">\n",
       "  <thead>\n",
       "    <tr style=\"text-align: right;\">\n",
       "      <th></th>\n",
       "      <th>DateCrawled</th>\n",
       "      <th>Price</th>\n",
       "      <th>VehicleType</th>\n",
       "      <th>RegistrationYear</th>\n",
       "      <th>Gearbox</th>\n",
       "      <th>Power</th>\n",
       "      <th>Model</th>\n",
       "      <th>Mileage</th>\n",
       "      <th>RegistrationMonth</th>\n",
       "      <th>FuelType</th>\n",
       "      <th>Brand</th>\n",
       "      <th>NotRepaired</th>\n",
       "      <th>DateCreated</th>\n",
       "      <th>NumberOfPictures</th>\n",
       "      <th>PostalCode</th>\n",
       "      <th>LastSeen</th>\n",
       "    </tr>\n",
       "  </thead>\n",
       "  <tbody>\n",
       "    <tr>\n",
       "      <th>count</th>\n",
       "      <td>354369</td>\n",
       "      <td>354369.000000</td>\n",
       "      <td>316879</td>\n",
       "      <td>354369.000000</td>\n",
       "      <td>334536</td>\n",
       "      <td>354369.000000</td>\n",
       "      <td>334664</td>\n",
       "      <td>354369.000000</td>\n",
       "      <td>354369.000000</td>\n",
       "      <td>321474</td>\n",
       "      <td>354369</td>\n",
       "      <td>283215</td>\n",
       "      <td>354369</td>\n",
       "      <td>354369.0</td>\n",
       "      <td>354369.000000</td>\n",
       "      <td>354369</td>\n",
       "    </tr>\n",
       "    <tr>\n",
       "      <th>unique</th>\n",
       "      <td>15470</td>\n",
       "      <td>NaN</td>\n",
       "      <td>8</td>\n",
       "      <td>NaN</td>\n",
       "      <td>2</td>\n",
       "      <td>NaN</td>\n",
       "      <td>250</td>\n",
       "      <td>NaN</td>\n",
       "      <td>NaN</td>\n",
       "      <td>7</td>\n",
       "      <td>40</td>\n",
       "      <td>2</td>\n",
       "      <td>109</td>\n",
       "      <td>NaN</td>\n",
       "      <td>NaN</td>\n",
       "      <td>18592</td>\n",
       "    </tr>\n",
       "    <tr>\n",
       "      <th>top</th>\n",
       "      <td>05/03/2016 14:25</td>\n",
       "      <td>NaN</td>\n",
       "      <td>sedan</td>\n",
       "      <td>NaN</td>\n",
       "      <td>manual</td>\n",
       "      <td>NaN</td>\n",
       "      <td>golf</td>\n",
       "      <td>NaN</td>\n",
       "      <td>NaN</td>\n",
       "      <td>petrol</td>\n",
       "      <td>volkswagen</td>\n",
       "      <td>no</td>\n",
       "      <td>03/04/2016 00:00</td>\n",
       "      <td>NaN</td>\n",
       "      <td>NaN</td>\n",
       "      <td>07/04/2016 07:16</td>\n",
       "    </tr>\n",
       "    <tr>\n",
       "      <th>freq</th>\n",
       "      <td>66</td>\n",
       "      <td>NaN</td>\n",
       "      <td>91457</td>\n",
       "      <td>NaN</td>\n",
       "      <td>268251</td>\n",
       "      <td>NaN</td>\n",
       "      <td>29232</td>\n",
       "      <td>NaN</td>\n",
       "      <td>NaN</td>\n",
       "      <td>216352</td>\n",
       "      <td>77013</td>\n",
       "      <td>247161</td>\n",
       "      <td>13719</td>\n",
       "      <td>NaN</td>\n",
       "      <td>NaN</td>\n",
       "      <td>654</td>\n",
       "    </tr>\n",
       "    <tr>\n",
       "      <th>mean</th>\n",
       "      <td>NaN</td>\n",
       "      <td>4416.656776</td>\n",
       "      <td>NaN</td>\n",
       "      <td>2004.234448</td>\n",
       "      <td>NaN</td>\n",
       "      <td>110.094337</td>\n",
       "      <td>NaN</td>\n",
       "      <td>128211.172535</td>\n",
       "      <td>5.714645</td>\n",
       "      <td>NaN</td>\n",
       "      <td>NaN</td>\n",
       "      <td>NaN</td>\n",
       "      <td>NaN</td>\n",
       "      <td>0.0</td>\n",
       "      <td>50508.689087</td>\n",
       "      <td>NaN</td>\n",
       "    </tr>\n",
       "    <tr>\n",
       "      <th>std</th>\n",
       "      <td>NaN</td>\n",
       "      <td>4514.158514</td>\n",
       "      <td>NaN</td>\n",
       "      <td>90.227958</td>\n",
       "      <td>NaN</td>\n",
       "      <td>189.850405</td>\n",
       "      <td>NaN</td>\n",
       "      <td>37905.341530</td>\n",
       "      <td>3.726421</td>\n",
       "      <td>NaN</td>\n",
       "      <td>NaN</td>\n",
       "      <td>NaN</td>\n",
       "      <td>NaN</td>\n",
       "      <td>0.0</td>\n",
       "      <td>25783.096248</td>\n",
       "      <td>NaN</td>\n",
       "    </tr>\n",
       "    <tr>\n",
       "      <th>min</th>\n",
       "      <td>NaN</td>\n",
       "      <td>0.000000</td>\n",
       "      <td>NaN</td>\n",
       "      <td>1000.000000</td>\n",
       "      <td>NaN</td>\n",
       "      <td>0.000000</td>\n",
       "      <td>NaN</td>\n",
       "      <td>5000.000000</td>\n",
       "      <td>0.000000</td>\n",
       "      <td>NaN</td>\n",
       "      <td>NaN</td>\n",
       "      <td>NaN</td>\n",
       "      <td>NaN</td>\n",
       "      <td>0.0</td>\n",
       "      <td>1067.000000</td>\n",
       "      <td>NaN</td>\n",
       "    </tr>\n",
       "    <tr>\n",
       "      <th>25%</th>\n",
       "      <td>NaN</td>\n",
       "      <td>1050.000000</td>\n",
       "      <td>NaN</td>\n",
       "      <td>1999.000000</td>\n",
       "      <td>NaN</td>\n",
       "      <td>69.000000</td>\n",
       "      <td>NaN</td>\n",
       "      <td>125000.000000</td>\n",
       "      <td>3.000000</td>\n",
       "      <td>NaN</td>\n",
       "      <td>NaN</td>\n",
       "      <td>NaN</td>\n",
       "      <td>NaN</td>\n",
       "      <td>0.0</td>\n",
       "      <td>30165.000000</td>\n",
       "      <td>NaN</td>\n",
       "    </tr>\n",
       "    <tr>\n",
       "      <th>50%</th>\n",
       "      <td>NaN</td>\n",
       "      <td>2700.000000</td>\n",
       "      <td>NaN</td>\n",
       "      <td>2003.000000</td>\n",
       "      <td>NaN</td>\n",
       "      <td>105.000000</td>\n",
       "      <td>NaN</td>\n",
       "      <td>150000.000000</td>\n",
       "      <td>6.000000</td>\n",
       "      <td>NaN</td>\n",
       "      <td>NaN</td>\n",
       "      <td>NaN</td>\n",
       "      <td>NaN</td>\n",
       "      <td>0.0</td>\n",
       "      <td>49413.000000</td>\n",
       "      <td>NaN</td>\n",
       "    </tr>\n",
       "    <tr>\n",
       "      <th>75%</th>\n",
       "      <td>NaN</td>\n",
       "      <td>6400.000000</td>\n",
       "      <td>NaN</td>\n",
       "      <td>2008.000000</td>\n",
       "      <td>NaN</td>\n",
       "      <td>143.000000</td>\n",
       "      <td>NaN</td>\n",
       "      <td>150000.000000</td>\n",
       "      <td>9.000000</td>\n",
       "      <td>NaN</td>\n",
       "      <td>NaN</td>\n",
       "      <td>NaN</td>\n",
       "      <td>NaN</td>\n",
       "      <td>0.0</td>\n",
       "      <td>71083.000000</td>\n",
       "      <td>NaN</td>\n",
       "    </tr>\n",
       "    <tr>\n",
       "      <th>max</th>\n",
       "      <td>NaN</td>\n",
       "      <td>20000.000000</td>\n",
       "      <td>NaN</td>\n",
       "      <td>9999.000000</td>\n",
       "      <td>NaN</td>\n",
       "      <td>20000.000000</td>\n",
       "      <td>NaN</td>\n",
       "      <td>150000.000000</td>\n",
       "      <td>12.000000</td>\n",
       "      <td>NaN</td>\n",
       "      <td>NaN</td>\n",
       "      <td>NaN</td>\n",
       "      <td>NaN</td>\n",
       "      <td>0.0</td>\n",
       "      <td>99998.000000</td>\n",
       "      <td>NaN</td>\n",
       "    </tr>\n",
       "  </tbody>\n",
       "</table>\n",
       "</div>"
      ],
      "text/plain": [
       "             DateCrawled          Price VehicleType  RegistrationYear Gearbox  \\\n",
       "count             354369  354369.000000      316879     354369.000000  334536   \n",
       "unique             15470            NaN           8               NaN       2   \n",
       "top     05/03/2016 14:25            NaN       sedan               NaN  manual   \n",
       "freq                  66            NaN       91457               NaN  268251   \n",
       "mean                 NaN    4416.656776         NaN       2004.234448     NaN   \n",
       "std                  NaN    4514.158514         NaN         90.227958     NaN   \n",
       "min                  NaN       0.000000         NaN       1000.000000     NaN   \n",
       "25%                  NaN    1050.000000         NaN       1999.000000     NaN   \n",
       "50%                  NaN    2700.000000         NaN       2003.000000     NaN   \n",
       "75%                  NaN    6400.000000         NaN       2008.000000     NaN   \n",
       "max                  NaN   20000.000000         NaN       9999.000000     NaN   \n",
       "\n",
       "                Power   Model        Mileage  RegistrationMonth FuelType  \\\n",
       "count   354369.000000  334664  354369.000000      354369.000000   321474   \n",
       "unique            NaN     250            NaN                NaN        7   \n",
       "top               NaN    golf            NaN                NaN   petrol   \n",
       "freq              NaN   29232            NaN                NaN   216352   \n",
       "mean       110.094337     NaN  128211.172535           5.714645      NaN   \n",
       "std        189.850405     NaN   37905.341530           3.726421      NaN   \n",
       "min          0.000000     NaN    5000.000000           0.000000      NaN   \n",
       "25%         69.000000     NaN  125000.000000           3.000000      NaN   \n",
       "50%        105.000000     NaN  150000.000000           6.000000      NaN   \n",
       "75%        143.000000     NaN  150000.000000           9.000000      NaN   \n",
       "max      20000.000000     NaN  150000.000000          12.000000      NaN   \n",
       "\n",
       "             Brand NotRepaired       DateCreated  NumberOfPictures  \\\n",
       "count       354369      283215            354369          354369.0   \n",
       "unique          40           2               109               NaN   \n",
       "top     volkswagen          no  03/04/2016 00:00               NaN   \n",
       "freq         77013      247161             13719               NaN   \n",
       "mean           NaN         NaN               NaN               0.0   \n",
       "std            NaN         NaN               NaN               0.0   \n",
       "min            NaN         NaN               NaN               0.0   \n",
       "25%            NaN         NaN               NaN               0.0   \n",
       "50%            NaN         NaN               NaN               0.0   \n",
       "75%            NaN         NaN               NaN               0.0   \n",
       "max            NaN         NaN               NaN               0.0   \n",
       "\n",
       "           PostalCode          LastSeen  \n",
       "count   354369.000000            354369  \n",
       "unique            NaN             18592  \n",
       "top               NaN  07/04/2016 07:16  \n",
       "freq              NaN               654  \n",
       "mean     50508.689087               NaN  \n",
       "std      25783.096248               NaN  \n",
       "min       1067.000000               NaN  \n",
       "25%      30165.000000               NaN  \n",
       "50%      49413.000000               NaN  \n",
       "75%      71083.000000               NaN  \n",
       "max      99998.000000               NaN  "
      ]
     },
     "metadata": {},
     "output_type": "display_data"
    },
    {
     "name": "stdout",
     "output_type": "stream",
     "text": [
      "Columnas en el DataFrame: Index(['DateCrawled', 'Price', 'VehicleType', 'RegistrationYear', 'Gearbox',\n",
      "       'Power', 'Model', 'Mileage', 'RegistrationMonth', 'FuelType', 'Brand',\n",
      "       'NotRepaired', 'DateCreated', 'NumberOfPictures', 'PostalCode',\n",
      "       'LastSeen'],\n",
      "      dtype='object')\n"
     ]
    }
   ],
   "source": [
    "# Mostrar las primeras filas del dataset\n",
    "print(\"Primeras filas del dataset:\")\n",
    "display(data.head())\n",
    "\n",
    "# Obtener información sobre el dataset\n",
    "print(\"Información del dataset:\")\n",
    "display(data.info())\n",
    "\n",
    "# Describir el dataset para obtener estadísticas básicas\n",
    "print(\"Descripción del dataset:\")\n",
    "display(data.describe(include='all'))\n",
    "\n",
    "# Verificar las columnas presentes en el DataFrame\n",
    "print(\"Columnas en el DataFrame:\", data.columns)\n"
   ]
  },
  {
   "cell_type": "markdown",
   "metadata": {},
   "source": [
    "## Preprocesamiento de Datos "
   ]
  },
  {
   "cell_type": "code",
   "execution_count": 4,
   "metadata": {},
   "outputs": [
    {
     "name": "stdout",
     "output_type": "stream",
     "text": [
      "Columnas en X después de manejar valores faltantes: Index(['VehicleType', 'RegistrationYear', 'Gearbox', 'Power', 'Model',\n",
      "       'Mileage', 'RegistrationMonth', 'FuelType', 'Brand', 'NotRepaired',\n",
      "       'PostalCode'],\n",
      "      dtype='object')\n"
     ]
    }
   ],
   "source": [
    "# Verificar si todas las columnas categóricas están presentes en el DataFrame\n",
    "categorical_cols = ['VehicleType', 'Gearbox', 'Model', 'FuelType', 'Brand', 'NotRepaired']\n",
    "missing_cols = [col for col in categorical_cols if col not in data.columns]\n",
    "if missing_cols:\n",
    "    print(f\"Advertencia: Las siguientes columnas categóricas están faltando en el DataFrame y serán excluidas: {missing_cols}\")\n",
    "    categorical_cols = [col for col in categorical_cols if col in data.columns]\n",
    "\n",
    "# Eliminamos las columnas innecesarias\n",
    "data = data.drop(['DateCrawled', 'DateCreated', 'LastSeen', 'NumberOfPictures'], axis=1)\n",
    "\n",
    "# Manejo de valores faltantes\n",
    "data = data.dropna()\n",
    "\n",
    "# Separar las características y la variable objetivo\n",
    "X = data.drop('Price', axis=1)\n",
    "y = data['Price']\n",
    "\n",
    "# Verificar las columnas después de manejar los valores faltantes\n",
    "print(\"Columnas en X después de manejar valores faltantes:\", X.columns)"
   ]
  },
  {
   "cell_type": "markdown",
   "metadata": {},
   "source": [
    "## One-Hot Encoding"
   ]
  },
  {
   "cell_type": "code",
   "execution_count": 5,
   "metadata": {},
   "outputs": [],
   "source": [
    "# One-Hot Encoding para los modelos que lo necesitan\n",
    "encoder = OneHotEncoder(drop='first', sparse_output=False)  # Actualizado\n",
    "if categorical_cols:\n",
    "    X_encoded = encoder.fit_transform(X[categorical_cols])\n",
    "    encoded_cols = encoder.get_feature_names_out(categorical_cols)\n",
    "    encoded_df = pd.DataFrame(X_encoded, columns=encoded_cols)\n",
    "    \n",
    "    # Reemplazar las columnas categóricas con las codificadas\n",
    "    X = X.drop(categorical_cols, axis=1).reset_index(drop=True)\n",
    "    X = pd.concat([X, encoded_df], axis=1)"
   ]
  },
  {
   "cell_type": "markdown",
   "metadata": {},
   "source": [
    "## Dividir los Datos en Conjuntos de Entrenamiento y Prueba"
   ]
  },
  {
   "cell_type": "code",
   "execution_count": 6,
   "metadata": {},
   "outputs": [],
   "source": [
    "# Dividir los datos en conjuntos de entrenamiento y prueba\n",
    "X_train, X_test, y_train, y_test = train_test_split(X, y, test_size=0.2, random_state=42)\n"
   ]
  },
  {
   "cell_type": "markdown",
   "metadata": {},
   "source": [
    "## Entrenamiento del modelo "
   ]
  },
  {
   "cell_type": "markdown",
   "metadata": {},
   "source": [
    "### Regresión Lineal"
   ]
  },
  {
   "cell_type": "code",
   "execution_count": 7,
   "metadata": {},
   "outputs": [
    {
     "data": {
      "text/plain": [
       "'1.5.0'"
      ]
     },
     "execution_count": 7,
     "metadata": {},
     "output_type": "execute_result"
    }
   ],
   "source": [
    "import sklearn\n",
    "sklearn.__version__"
   ]
  },
  {
   "cell_type": "code",
   "execution_count": 8,
   "metadata": {},
   "outputs": [
    {
     "name": "stdout",
     "output_type": "stream",
     "text": [
      "RMSE Regresión Lineal: 2701.260670522398\n"
     ]
    }
   ],
   "source": [
    "\n",
    "# Entrenar el modelo\n",
    "lr = LinearRegression()\n",
    "lr.fit(X_train, y_train)\n",
    "\n",
    "# Hacer predicciones\n",
    "y_pred_lr = lr.predict(X_test)\n",
    "\n",
    "# Calcular el RMSE\n",
    "rmse_lr = np.sqrt(mean_squared_error(y_test, y_pred_lr))\n",
    "print(f'RMSE Regresión Lineal: {rmse_lr}')\n"
   ]
  },
  {
   "cell_type": "markdown",
   "metadata": {},
   "source": [
    "### Árbol de Decisión"
   ]
  },
  {
   "cell_type": "code",
   "execution_count": 9,
   "metadata": {},
   "outputs": [
    {
     "name": "stdout",
     "output_type": "stream",
     "text": [
      "RMSE Árbol de Decisión: 2098.711200373837\n"
     ]
    }
   ],
   "source": [
    "# Entrenar el modelo\n",
    "dt = DecisionTreeRegressor(random_state=42)\n",
    "dt.fit(X_train, y_train)\n",
    "\n",
    "# Hacer predicciones\n",
    "y_pred_dt = dt.predict(X_test)\n",
    "\n",
    "# Calcular el RMSE\n",
    "rmse_dt = np.sqrt(mean_squared_error(y_test, y_pred_dt))\n",
    "print(f'RMSE Árbol de Decisión: {rmse_dt}')\n",
    " "
   ]
  },
  {
   "cell_type": "markdown",
   "metadata": {},
   "source": [
    "### Bosque Aleatorio"
   ]
  },
  {
   "cell_type": "code",
   "execution_count": 10,
   "metadata": {},
   "outputs": [
    {
     "name": "stdout",
     "output_type": "stream",
     "text": [
      "RMSE Bosque Aleatorio: 1583.94459792293\n"
     ]
    }
   ],
   "source": [
    "# Entrenar el modelo\n",
    "rf = RandomForestRegressor(random_state=42, n_jobs=-1)\n",
    "rf.fit(X_train, y_train)\n",
    "\n",
    "# Hacer predicciones\n",
    "y_pred_rf = rf.predict(X_test)\n",
    "\n",
    "# Calcular el RMSE\n",
    "rmse_rf = np.sqrt(mean_squared_error(y_test, y_pred_rf))\n",
    "print(f'RMSE Bosque Aleatorio: {rmse_rf}')\n",
    " "
   ]
  },
  {
   "cell_type": "markdown",
   "metadata": {},
   "source": [
    "### LightGBM"
   ]
  },
  {
   "cell_type": "code",
   "execution_count": 11,
   "metadata": {},
   "outputs": [
    {
     "name": "stdout",
     "output_type": "stream",
     "text": [
      "[LightGBM] [Info] Auto-choosing row-wise multi-threading, the overhead of testing was 0.002528 seconds.\n",
      "You can set `force_row_wise=true` to remove the overhead.\n",
      "And if memory is not enough, you can set `force_col_wise=true`.\n",
      "[LightGBM] [Info] Total Bins 1176\n",
      "[LightGBM] [Info] Number of data points in the train set: 196651, number of used features: 287\n",
      "[LightGBM] [Info] Start training from score 5124.313550\n",
      "RMSE LightGBM: 1699.60334261121\n"
     ]
    }
   ],
   "source": [
    "# Entrenar el modelo\n",
    "lgb_model = lgb.LGBMRegressor(random_state=42, n_jobs=-1)\n",
    "lgb_model.fit(X_train, y_train,)\n",
    "\n",
    "# Hacer predicciones\n",
    "y_pred_lgb = lgb_model.predict(X_test)\n",
    "\n",
    "# Calcular el RMSE\n",
    "rmse_lgb = np.sqrt(mean_squared_error(y_test, y_pred_lgb))\n",
    "print(f'RMSE LightGBM: {rmse_lgb}')\n",
    "\n",
    " "
   ]
  },
  {
   "cell_type": "markdown",
   "metadata": {},
   "source": [
    "### XGBoost"
   ]
  },
  {
   "cell_type": "code",
   "execution_count": 12,
   "metadata": {},
   "outputs": [
    {
     "name": "stdout",
     "output_type": "stream",
     "text": [
      "RMSE XGBoost: 1662.2433400763052\n"
     ]
    }
   ],
   "source": [
    "# Entrenar el modelo\n",
    "xgb_model = xgb.XGBRegressor(random_state=42, n_jobs=-1)\n",
    "xgb_model.fit(X_train, y_train)\n",
    "\n",
    "# Hacer predicciones\n",
    "y_pred_xgb = xgb_model.predict(X_test)\n",
    "\n",
    "# Calcular el RMSE\n",
    "rmse_xgb = np.sqrt(mean_squared_error(y_test, y_pred_xgb))\n",
    "print(f'RMSE XGBoost: {rmse_xgb}')\n",
    "\n"
   ]
  },
  {
   "cell_type": "markdown",
   "metadata": {},
   "source": [
    "### CatBoost"
   ]
  },
  {
   "cell_type": "code",
   "execution_count": 13,
   "metadata": {},
   "outputs": [
    {
     "name": "stdout",
     "output_type": "stream",
     "text": [
      "Creando directorio temporal para CatBoost: C:\\Users\\admin\\AppData\\Local\\Temp\\tmp_iqso8tu\n",
      "RMSE CatBoost: 1608.7782028013598\n"
     ]
    }
   ],
   "source": [
    "# Crear un directorio temporal para CatBoost\n",
    "with tempfile.TemporaryDirectory() as tmpdirname:\n",
    "    print(f'Creando directorio temporal para CatBoost: {tmpdirname}')\n",
    "    # Entrenar el modelo\n",
    "    cat_model = CatBoostRegressor(random_state=42, train_dir=tmpdirname, verbose=0)\n",
    "    cat_model.fit(X_train, y_train)\n",
    "\n",
    "\n",
    "    # Hacer predicciones\n",
    "    y_pred_cat = cat_model.predict(X_test)\n",
    "\n",
    "    # Calcular el RMSE\n",
    "    rmse_cat = np.sqrt(mean_squared_error(y_test, y_pred_cat))\n",
    "    print(f'RMSE CatBoost: {rmse_cat}')\n"
   ]
  },
  {
   "cell_type": "markdown",
   "metadata": {},
   "source": [
    "### Tiempo de ejecucion"
   ]
  },
  {
   "cell_type": "code",
   "execution_count": 14,
   "metadata": {},
   "outputs": [
    {
     "name": "stdout",
     "output_type": "stream",
     "text": [
      "[LightGBM] [Info] Auto-choosing row-wise multi-threading, the overhead of testing was 0.002740 seconds.\n",
      "You can set `force_row_wise=true` to remove the overhead.\n",
      "And if memory is not enough, you can set `force_col_wise=true`.\n",
      "[LightGBM] [Info] Total Bins 1176\n",
      "[LightGBM] [Info] Number of data points in the train set: 196651, number of used features: 287\n",
      "[LightGBM] [Info] Start training from score 5124.313550\n",
      "+-------------------+-----------------+-------------------+\n",
      "| Model             | Training Time   | Prediction Time   |\n",
      "+===================+=================+===================+\n",
      "| Linear Regression | 0.8253s         | 0.0360s           |\n",
      "+-------------------+-----------------+-------------------+\n",
      "| Decision Tree     | 3.4176s         | 0.0566s           |\n",
      "+-------------------+-----------------+-------------------+\n",
      "| Random Forest     | 20.3963s        | 0.2571s           |\n",
      "+-------------------+-----------------+-------------------+\n",
      "| LightGBM          | 0.5866s         | 0.1085s           |\n",
      "+-------------------+-----------------+-------------------+\n",
      "| XGBoost           | 0.8010s         | 0.0640s           |\n",
      "+-------------------+-----------------+-------------------+\n",
      "| CatBoost          | 4.9958s         | 0.0140s           |\n",
      "+-------------------+-----------------+-------------------+\n"
     ]
    }
   ],
   "source": [
    "# Función para medir el tiempo de entrenamiento y predicción\n",
    "def measure_time(model, X_train, y_train, X_test):\n",
    "    start_train = time.time()\n",
    "    \n",
    "    model.fit(X_train, y_train)\n",
    "    \n",
    "    end_train = time.time()\n",
    "    \n",
    "    training_time = end_train - start_train\n",
    "\n",
    "    start_predict = time.time()\n",
    "    \n",
    "    y_pred = model.predict(X_test)\n",
    "    \n",
    "    end_predict = time.time()\n",
    "    \n",
    "    prediction_time = end_predict - start_predict\n",
    "    \n",
    "    return training_time, prediction_time\n",
    "\n",
    "# Medir los tiempos\n",
    "models = {\n",
    "    \"Linear Regression\": lr,\n",
    "    \"Decision Tree\": dt,\n",
    "    \"Random Forest\": rf,\n",
    "    \"LightGBM\": lgb_model,\n",
    "    \"XGBoost\": xgb_model,\n",
    "    \"CatBoost\": cat_model\n",
    "}\n",
    "\n",
    "# Crear la tabla de resultados\n",
    "results = []\n",
    "for name, model in models.items():\n",
    "    train_time, predict_time = measure_time(model, X_train, y_train, X_test)\n",
    "    results.append([name, f'{train_time:.4f}s', f'{predict_time:.4f}s'])\n",
    "    \n",
    "# Imprimir la tabla\n",
    "print(tabulate(results, headers=[\"Model\", \"Training Time\", \"Prediction Time\"], tablefmt=\"grid\"))"
   ]
  },
  {
   "cell_type": "markdown",
   "metadata": {},
   "source": [
    "Modelos más rápidos de entrenar:\n",
    "\n",
    "El modelo más rápido de entrenar fue LightGBM con un tiempo de entrenamiento de 0.5957 segundos.\n",
    "Le siguen XGBoost (0.8463 segundos) y Linear Regression (0.8335 segundos).\n",
    "\n",
    "\n",
    "Modelos más rápidos de predicción:<br>\n",
    "CatBoost fue el modelo más rápido en hacer predicciones con un tiempo de predicción de solo 0.0130 segundos.\n",
    "Después, se encuentra Linear Regression con 0.0340 segundos y XGBoost con 0.0654 segundos.\n",
    "\n",
    "\n",
    "\n",
    "Modelo más lento de entrenar:<br>\n",
    "Random Forest fue el modelo más lento de entrenar con un tiempo de 20.3850 segundos. Esto se debe a su naturaleza de ensamblaje que implica la construcción de múltiples árboles.\n",
    "\n",
    "\n",
    "Modelo más lento de predicción:<br>\n",
    "Random Forest también fue el modelo más lento en hacer predicciones con 0.2030 segundos. Aunque es rápido en entrenamiento comparado con otros modelos de ensamblaje, las predicciones son más costosas computacionalmente debido a la evaluación de múltiples árboles.\n",
    "\n",
    "\n",
    "Performance general:<br>\n",
    "LightGBM y XGBoost mostraron buenos tiempos tanto en entrenamiento como en predicción, destacándose por su eficiencia general.\n",
    "CatBoost fue excepcionalmente rápido en predicción, lo que lo hace ideal para aplicaciones donde la velocidad de inferencia es crítica."
   ]
  }
 ],
 "metadata": {
  "ExecuteTimeLog": [
   {
    "duration": 1884,
    "start_time": "2024-07-05T02:02:54.975Z"
   },
   {
    "duration": 0,
    "start_time": "2024-07-05T02:02:56.864Z"
   },
   {
    "duration": 0,
    "start_time": "2024-07-05T02:02:56.866Z"
   },
   {
    "duration": 0,
    "start_time": "2024-07-05T02:02:56.869Z"
   },
   {
    "duration": 0,
    "start_time": "2024-07-05T02:02:56.871Z"
   },
   {
    "duration": 0,
    "start_time": "2024-07-05T02:02:56.873Z"
   },
   {
    "duration": 0,
    "start_time": "2024-07-05T02:02:56.876Z"
   },
   {
    "duration": 0,
    "start_time": "2024-07-05T02:02:56.878Z"
   },
   {
    "duration": 0,
    "start_time": "2024-07-05T02:02:56.880Z"
   },
   {
    "duration": 0,
    "start_time": "2024-07-05T02:02:56.882Z"
   },
   {
    "duration": 0,
    "start_time": "2024-07-05T02:02:56.884Z"
   },
   {
    "duration": 0,
    "start_time": "2024-07-05T02:02:56.923Z"
   },
   {
    "duration": 0,
    "start_time": "2024-07-05T02:02:56.925Z"
   },
   {
    "duration": 919,
    "start_time": "2024-07-05T02:03:09.662Z"
   },
   {
    "duration": 322,
    "start_time": "2024-07-05T08:50:31.873Z"
   },
   {
    "duration": 1632,
    "start_time": "2024-07-05T08:50:37.069Z"
   },
   {
    "duration": 834,
    "start_time": "2024-07-05T08:50:49.728Z"
   },
   {
    "duration": 776,
    "start_time": "2024-07-05T08:56:20.726Z"
   },
   {
    "duration": 753,
    "start_time": "2024-07-05T08:56:53.658Z"
   },
   {
    "duration": 747,
    "start_time": "2024-07-05T08:57:06.639Z"
   },
   {
    "duration": 1885,
    "start_time": "2024-07-05T19:49:34.636Z"
   },
   {
    "duration": 2613,
    "start_time": "2024-07-05T19:49:45.213Z"
   },
   {
    "duration": 36,
    "start_time": "2024-07-05T19:49:50.318Z"
   },
   {
    "duration": 95,
    "start_time": "2024-07-05T19:49:55.255Z"
   },
   {
    "duration": 2244,
    "start_time": "2024-07-05T19:50:03.811Z"
   },
   {
    "duration": 2257,
    "start_time": "2024-07-05T19:50:09.538Z"
   },
   {
    "duration": 1874,
    "start_time": "2024-07-05T19:50:18.928Z"
   },
   {
    "duration": 2274,
    "start_time": "2024-07-05T19:50:35.078Z"
   },
   {
    "duration": 15183,
    "start_time": "2024-07-05T19:50:40.171Z"
   },
   {
    "duration": 89774,
    "start_time": "2024-07-06T04:15:11.382Z"
   },
   {
    "duration": 5271,
    "start_time": "2024-07-06T04:16:41.164Z"
   },
   {
    "duration": 2046,
    "start_time": "2024-07-06T04:16:46.439Z"
   },
   {
    "duration": 5,
    "start_time": "2024-07-06T04:16:58.876Z"
   },
   {
    "duration": 960,
    "start_time": "2024-07-06T04:17:05.619Z"
   },
   {
    "duration": 910,
    "start_time": "2024-07-06T04:17:40.189Z"
   },
   {
    "duration": 208,
    "start_time": "2024-07-06T04:18:02.027Z"
   },
   {
    "duration": 138,
    "start_time": "2024-07-06T04:18:04.487Z"
   },
   {
    "duration": 94,
    "start_time": "2024-07-06T04:18:17.112Z"
   },
   {
    "duration": 145,
    "start_time": "2024-07-06T04:18:19.744Z"
   },
   {
    "duration": 139,
    "start_time": "2024-07-06T04:18:24.705Z"
   },
   {
    "duration": 127,
    "start_time": "2024-07-06T04:18:27.702Z"
   },
   {
    "duration": 597,
    "start_time": "2024-07-06T04:18:42.115Z"
   },
   {
    "duration": 40,
    "start_time": "2024-07-06T04:18:47.795Z"
   },
   {
    "duration": 84,
    "start_time": "2024-07-06T04:18:52.527Z"
   },
   {
    "duration": 136,
    "start_time": "2024-07-06T04:18:54.143Z"
   },
   {
    "duration": 920,
    "start_time": "2024-07-06T04:18:59.729Z"
   },
   {
    "duration": 866,
    "start_time": "2024-07-06T04:19:06.072Z"
   },
   {
    "duration": 1148,
    "start_time": "2024-07-06T04:19:09.302Z"
   },
   {
    "duration": 140,
    "start_time": "2024-07-06T04:19:12.834Z"
   },
   {
    "duration": 17807,
    "start_time": "2024-07-06T04:22:57.832Z"
   },
   {
    "duration": 6,
    "start_time": "2024-07-06T04:23:26.906Z"
   },
   {
    "duration": 50,
    "start_time": "2024-07-06T04:23:36.613Z"
   },
   {
    "duration": 6,
    "start_time": "2024-07-06T04:23:39.292Z"
   },
   {
    "duration": 32,
    "start_time": "2024-07-06T04:23:41.326Z"
   },
   {
    "duration": 5,
    "start_time": "2024-07-06T04:23:44.215Z"
   },
   {
    "duration": 5,
    "start_time": "2024-07-06T04:23:58.716Z"
   },
   {
    "duration": 10,
    "start_time": "2024-07-06T04:24:06.324Z"
   },
   {
    "duration": 621,
    "start_time": "2024-07-06T04:24:17.968Z"
   },
   {
    "duration": 7,
    "start_time": "2024-07-06T04:25:20.743Z"
   }
  ],
  "kernelspec": {
   "display_name": "Python 3 (ipykernel)",
   "language": "python",
   "name": "python3"
  },
  "language_info": {
   "codemirror_mode": {
    "name": "ipython",
    "version": 3
   },
   "file_extension": ".py",
   "mimetype": "text/x-python",
   "name": "python",
   "nbconvert_exporter": "python",
   "pygments_lexer": "ipython3",
   "version": "3.11.7"
  },
  "toc": {
   "base_numbering": 1,
   "nav_menu": {},
   "number_sections": true,
   "sideBar": true,
   "skip_h1_title": true,
   "title_cell": "Table of Contents",
   "title_sidebar": "Contents",
   "toc_cell": false,
   "toc_position": {},
   "toc_section_display": true,
   "toc_window_display": false
  }
 },
 "nbformat": 4,
 "nbformat_minor": 2
}
